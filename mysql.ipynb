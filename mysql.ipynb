{
 "cells": [
  {
   "cell_type": "code",
   "execution_count": 1,
   "metadata": {},
   "outputs": [
    {
     "name": "stdout",
     "output_type": "stream",
     "text": [
      "Database version : 8.0.35 \n"
     ]
    }
   ],
   "source": [
    "import mysql.connector\n",
    "\n",
    "# connect to MySQL database 'walmart'\n",
    "db = mysql.connector.connect(\n",
    "  host=\"localhost\",\n",
    "  user=\"root\",\n",
    "  password=\"ty991013\",\n",
    "  database=\"walmart\"\n",
    ")\n",
    "\n",
    "# use cursor() create an cursor object\n",
    "cursor = db.cursor()\n",
    " \n",
    "# use execute() conduct SQL query \n",
    "cursor.execute(\"SELECT VERSION()\")\n",
    " \n",
    "# use fetchone() get data\n",
    "data = cursor.fetchone()\n",
    " \n",
    "print (\"Database version : %s \" % data)\n",
    " \n",
    "# close the connection with database\n",
    "db.close()"
   ]
  }
 ],
 "metadata": {
  "kernelspec": {
   "display_name": "Python 3",
   "language": "python",
   "name": "python3"
  },
  "language_info": {
   "codemirror_mode": {
    "name": "ipython",
    "version": 3
   },
   "file_extension": ".py",
   "mimetype": "text/x-python",
   "name": "python",
   "nbconvert_exporter": "python",
   "pygments_lexer": "ipython3",
   "version": "3.9.7"
  }
 },
 "nbformat": 4,
 "nbformat_minor": 2
}
